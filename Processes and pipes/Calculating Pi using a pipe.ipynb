{
 "cells": [
  {
   "cell_type": "markdown",
   "metadata": {},
   "source": [
    "# Calculating PI constant using Gregory-Leibniz Series,communicating the processes using a pipe"
   ]
  },
  {
   "cell_type": "code",
   "execution_count": 3,
   "metadata": {},
   "outputs": [
    {
     "name": "stdout",
     "output_type": "stream",
     "text": [
      "Pi Value: 3.141593"
     ]
    }
   ],
   "source": [
    "#include <unistd.h>\n",
    "#include <sys/types.h>\n",
    "#include <sys/wait.h>\n",
    "#include <stdio.h>\n",
    "#include <stdlib.h>\n",
    "#include <math.h>\n",
    "#include <float.h>\n",
    "\n",
    "long double piCalc(_Bool odd){\n",
    "    \n",
    "    long double piDecimals = 0;\n",
    "    \n",
    "    if(odd){\n",
    "        \n",
    "        for(int i = 1; i< 1e09; i+=4){\n",
    "             piDecimals += (4.0/i);\n",
    "        }\n",
    "\n",
    "        \n",
    "    }else{\n",
    "        \n",
    "        for(int i = 3; i< 1e09; i+=4){\n",
    "             piDecimals -= (4.0/i);\n",
    "        }\n",
    "    }\n",
    "    \n",
    "    return piDecimals;\n",
    "}\n",
    "\n",
    "int main(){\n",
    "    \n",
    "    \n",
    "    int pipefd[2];\n",
    "    long double buffer;\n",
    "    pid_t pid;\n",
    "    int p = pipe(pipefd);\n",
    "    \n",
    "    \n",
    "    long double piChild= 0;\n",
    "    long double piFather= 0;\n",
    "    long double piTotal = 0;\n",
    "    \n",
    "    \n",
    "    \n",
    "    // Error validation\n",
    "    if (p<0){\n",
    "        perror(\"pipe error\\n\");\n",
    "        exit(-1);\n",
    "    }\n",
    "\n",
    "    pid= fork();\n",
    "    \n",
    "     // Pid Validation\n",
    "     if (pid == 0){\n",
    "         buffer = piCalc(1);\n",
    "         int w = write(pipefd[1], &buffer, sizeof(long double));\n",
    "         \n",
    "         // Write validation\n",
    "         if (w==-1) perror(\"Write in pipe error\\n\");\n",
    "         close(pipefd[1]);\n",
    "\n",
    "     }else{\n",
    "         \n",
    "         close(pipefd[1]);\n",
    "         piFather = piCalc(0);\n",
    "         int r = read(pipefd[0], &buffer, sizeof(long double));\n",
    "         \n",
    "         piTotal = buffer + piFather;\n",
    "        \n",
    "         //Read Validation\n",
    "         if (r<0){\n",
    "            perror(\"read error\\n\");\n",
    "            exit(-1);\n",
    "         }\n",
    "         \n",
    "         printf(\"Pi Value: %Lf\", piTotal);\n",
    "\n",
    "     }\n",
    "    exit(0);\n",
    "}\n",
    "    "
   ]
  },
  {
   "cell_type": "code",
   "execution_count": null,
   "metadata": {},
   "outputs": [],
   "source": []
  },
  {
   "cell_type": "code",
   "execution_count": null,
   "metadata": {},
   "outputs": [],
   "source": []
  }
 ],
 "metadata": {
  "kernelspec": {
   "display_name": "C",
   "language": "c",
   "name": "c"
  },
  "language_info": {
   "file_extension": ".c",
   "mimetype": "text/plain",
   "name": "c"
  }
 },
 "nbformat": 4,
 "nbformat_minor": 2
}
