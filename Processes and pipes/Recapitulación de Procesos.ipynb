{
 "cells": [
  {
   "cell_type": "markdown",
   "metadata": {},
   "source": [
    "# Procesos\n",
    "\n",
    "## Introducción\n",
    "\n",
    "- Partes (DS,CS.SS)\n",
    "- Carga de un proceso\n",
    "\n",
    "## Partes Kernel\n",
    "\n",
    "- Introducción LDD3\n",
    "\n",
    "## Comunicación de procesos\n",
    "\n",
    "- Archivos (Procesos emparentados vs procesos no emparentados)\n",
    "- Memoria compartida (más rápido)\n",
    "    \n",
    "    \n",
    "- Tuberías (memoria)\n",
    "\n",
    "> Podemos entenderlas como pedazos de memoria que se comportan como un tubo siguiendo el comportamiento FIFO (con un extremo para lectura y otro para escritura), unidireccional, por cada lado de la tubería habrá un proceso, dichos procesos no estarán emparentados, si está lleno el espacio de escritura entonces la llamada de escritura se vuelve bloqueante, solo se desbloquea hasta que haya espacio para escribir, si la tubería se encuentra vacía la lectura se vuelve bloqueante, nos importa usarla cuando deseamos que los datos lleguen en orden, lo malo de las tuberías es que implican un cierto tiempo a la hora de ejecutar las funciones del sistema operativo tanto para la lectura y escritura.\n",
    "    \n",
    "    Procesos emprarentados o no emparentados\n",
    "    \n",
    "        emparentados -> pipe(); el dueño de la tubería es el kernel\n",
    "        pipefd[0] -> extremo de lectura\n",
    "        pipefd[1] -> extremo de escritura\n",
    "\n",
    "- Sockets\n",
    "\n",
    "\n",
    "**Recorderis de Memorias**\n",
    "\n",
    "1) Los elementos de memoria mas rápidos son los **registros** del procesador (estan en el procesador)\n",
    "\n",
    "2) Luego la memoria caché el cual suele ser de amyor tamaño, utilizado generalmente por el procesador para realizar funciones mientras que el controlador DMA (Acceso directo de memoria) encargado de la tarea de copiar datos ocupa el bus de datos hacia la memoria ram.\n",
    "\n",
    "3) Memoria Principal (RAM)\n",
    "\n",
    "4) SSD\n",
    "\n",
    "5) HDD Magnético\n",
    "\n",
    "6) Discos de almacenamiento óptico (CD, DVD, Bluray)\n",
    "\n",
    "7) Cintas de almacenamiento\n",
    "\n"
   ]
  },
  {
   "cell_type": "code",
   "execution_count": null,
   "metadata": {},
   "outputs": [],
   "source": []
  }
 ],
 "metadata": {
  "kernelspec": {
   "display_name": "C",
   "language": "c",
   "name": "c"
  },
  "language_info": {
   "file_extension": ".c",
   "mimetype": "text/plain",
   "name": "c"
  }
 },
 "nbformat": 4,
 "nbformat_minor": 2
}
