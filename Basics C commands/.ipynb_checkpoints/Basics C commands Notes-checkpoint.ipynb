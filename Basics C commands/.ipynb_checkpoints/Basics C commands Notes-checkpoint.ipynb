{
 "cells": [
  {
   "cell_type": "markdown",
   "metadata": {},
   "source": [
    "# Basics C Commands"
   ]
  },
  {
   "cell_type": "markdown",
   "metadata": {},
   "source": [
    "### Execute a C Script using GCC Compiler\n",
    "\n",
    "**Script Name (In):** hello.c\n",
    "\n",
    "**Binary File (Out):** hello\n",
    "\n",
    "\n",
    "> This Compile the Script\n",
    "`gcc hello.c -o hello`\n",
    "\n",
    "> This Execute the Binary Output\n",
    "`./hello` "
   ]
  },
  {
   "cell_type": "markdown",
   "metadata": {},
   "source": [
    "### Print the Size of primitive C variable types\n"
   ]
  },
  {
   "cell_type": "code",
   "execution_count": 7,
   "metadata": {},
   "outputs": [
    {
     "name": "stdout",
     "output_type": "stream",
     "text": [
      "char size: 1 byte\n",
      "int size: 4 bytes\n",
      "float size: 4 bytes\n",
      "short size: 2 bytes\n",
      "double size: 8 bytes\n",
      "long size: 8 bytes\n",
      "long long size: 8 bytes\n"
     ]
    }
   ],
   "source": [
    "//Name of the File: sizeofTypes.c\n",
    "\n",
    "#include <stdio.h>\n",
    "\n",
    "int main(){\n",
    "    \n",
    "    char a;\n",
    "    int b;\n",
    "    float c;\n",
    "    short d;\n",
    "    double e;\n",
    "    long f;\n",
    "    long long g;\n",
    "    \n",
    "    printf(\"char size: %li byte\\n\", sizeof(a));\n",
    "    printf(\"int size: %li bytes\\n\", sizeof(b));\n",
    "    printf(\"float size: %li bytes\\n\", sizeof(c));\n",
    "    printf(\"short size: %li bytes\\n\", sizeof(d));\n",
    "    printf(\"double size: %li bytes\\n\", sizeof(e));\n",
    "    printf(\"long size: %li bytes\\n\", sizeof(f));\n",
    "    printf(\"long long size: %li bytes\\n\", sizeof(g));\n",
    "    \n",
    "    return 0;\n",
    "    \n",
    "}\n"
   ]
  },
  {
   "cell_type": "markdown",
   "metadata": {},
   "source": [
    "### Print the size of several pointer types"
   ]
  },
  {
   "cell_type": "code",
   "execution_count": 11,
   "metadata": {},
   "outputs": [
    {
     "name": "stdout",
     "output_type": "stream",
     "text": [
      "char* size: 8 bytes\n",
      "int* size: 8 bytes\n",
      "float* size: 8 bytes\n",
      "short* size: 8 bytes\n",
      "double* size: 8 bytes\n",
      "long* size: 8 bytes\n",
      "long long* size: 8 bytes\n"
     ]
    }
   ],
   "source": [
    "//Name of the File: sizeofPointers.c\n",
    "\n",
    "#include <stdio.h>\n",
    "\n",
    "int main(){\n",
    "    \n",
    "    char *a;\n",
    "    int *b;\n",
    "    float *c;\n",
    "    short *d;\n",
    "    double *e;\n",
    "    long *f;\n",
    "    long long *g;\n",
    "    \n",
    "    printf(\"char* size: %li bytes\\n\", sizeof(a));\n",
    "    printf(\"int* size: %li bytes\\n\", sizeof(b));\n",
    "    printf(\"float* size: %li bytes\\n\", sizeof(c));\n",
    "    printf(\"short* size: %li bytes\\n\", sizeof(d));\n",
    "    printf(\"double* size: %li bytes\\n\", sizeof(e));\n",
    "    printf(\"long* size: %li bytes\\n\", sizeof(f));\n",
    "    printf(\"long long* size: %li bytes\\n\", sizeof(g));\n",
    "    \n",
    "    return 0;\n",
    "    \n",
    "}\n"
   ]
  },
  {
   "cell_type": "markdown",
   "metadata": {},
   "source": [
    "**As we can see all the pointers have the same size, that is because a pointer is a Memory Address and his size depends of CPU architecture**"
   ]
  },
  {
   "cell_type": "markdown",
   "metadata": {},
   "source": [
    "### Let's see this piece of code"
   ]
  },
  {
   "cell_type": "code",
   "execution_count": 23,
   "metadata": {},
   "outputs": [
    {
     "name": "stdout",
     "output_type": "stream",
     "text": [
      "'a' char value: H, 'a' memory address 0x55cd6a7807e0\n"
     ]
    }
   ],
   "source": [
    "//Name of the File: mallocError.c\n",
    "\n",
    "#include <stdio.h>\n",
    "#include <stdlib.h>\n",
    "\n",
    "int main(){\n",
    "    \n",
    "    char *a;\n",
    "    a = (char*) malloc(10);\n",
    "    if (a==NULL){\n",
    "        perror(\"There is a Error in malloc sentence, or there is a problem with virtual memory assignment manager\");\n",
    "        exit(-1);\n",
    "    }else{\n",
    "        *a = 'H';\n",
    "        printf(\"'a' char value: %c, 'a' memory address %p\\n\",*a,a);\n",
    "        free(a);\n",
    "    \n",
    "    }\n",
    "    \n",
    "    return 0;\n",
    "    \n",
    "}"
   ]
  },
  {
   "cell_type": "markdown",
   "metadata": {},
   "source": [
    "### Remember: Struct Type"
   ]
  },
  {
   "cell_type": "markdown",
   "metadata": {},
   "source": [
    "Struct is a C primitive data type that allow us create custom data types"
   ]
  },
  {
   "cell_type": "code",
   "execution_count": 96,
   "metadata": {},
   "outputs": [
    {
     "name": "stdout",
     "output_type": "stream",
     "text": [
      "-----data1-----\n",
      "\n",
      "Data numInteger: 34\n",
      "Data numDouble: 2.450000\n",
      "\n",
      "\n",
      "-----data2-----\n",
      "\n",
      "Data numInteger: 10\n",
      "Data numDouble: 3.140000\n",
      "\n",
      "\n",
      "-----dataPointer-----\n",
      "\n",
      "Data numInteger: 34\n",
      "Data numDouble: 2.450000\n",
      "\n",
      "\n",
      "-----   dataPointer printed using '->'   -----\n",
      "\n",
      "Data numInteger: 10\n",
      "Data numDouble: 3.140000\n"
     ]
    }
   ],
   "source": [
    "//Name of the File: struct.c\n",
    "\n",
    "#include <stdio.h>\n",
    "#include <stdlib.h>\n",
    "\n",
    "struct Data{\n",
    "    int numInteger;\n",
    "    double numDouble;\n",
    "};\n",
    "\n",
    "void printData(struct Data data){\n",
    "\n",
    "   printf( \"Data numInteger: %i\\n\", data.numInteger);\n",
    "   printf( \"Data numDouble: %lf\\n\", data.numDouble);\n",
    "\n",
    "}\n",
    "\n",
    "void printDataPointer(struct Data *data){\n",
    "\n",
    "   printf( \"Data numInteger: %i\\n\", data -> numInteger);\n",
    "   printf( \"Data numDouble: %lf\\n\", data -> numDouble);\n",
    "\n",
    "}\n",
    "\n",
    "int main(){\n",
    "    \n",
    "    struct Data data1;\n",
    "    struct Data data2;\n",
    "    \n",
    "    data1.numInteger = 34;\n",
    "    data1.numDouble = 2.45;\n",
    "    \n",
    "    data2.numInteger = 10;\n",
    "    data2.numDouble = 3.14;\n",
    "    \n",
    "    puts(\"-----data1-----\\n\");\n",
    "    printData(data1);\n",
    "    puts(\"\\n\");\n",
    "    puts(\"-----data2-----\\n\");\n",
    "    printData(data2);\n",
    "    puts(\"\\n\");\n",
    "    struct Data *dataPointer;\n",
    "    dataPointer = &data1;\n",
    "    puts(\"-----dataPointer-----\\n\");\n",
    "    printData(*dataPointer);\n",
    "    \n",
    "    puts(\"\\n\");\n",
    "    *dataPointer = data2;\n",
    "    puts(\"-----   dataPointer printed using '->'   -----\\n\");\n",
    "    printDataPointer(dataPointer);\n",
    "    \n",
    "    return 0;\n",
    "    \n",
    "}\n"
   ]
  },
  {
   "cell_type": "markdown",
   "metadata": {},
   "source": [
    "### Using pointers inside a Structure"
   ]
  },
  {
   "cell_type": "code",
   "execution_count": 95,
   "metadata": {},
   "outputs": [
    {
     "name": "stdout",
     "output_type": "stream",
     "text": [
      "-----dataPointer-----\n",
      "\n",
      "Data numInteger: 2\n",
      "Data numIntPointer: 0x5651e88c0800 and the value is 3\n",
      "\n",
      "\n",
      "-----   dataPointer printed using '->'   -----\n",
      "\n",
      "Data numInteger: 2\n",
      "Data numIntPointer: 0x5651e88c0800 and the value is 3\n"
     ]
    }
   ],
   "source": [
    "//Name of the File: structPointers.c\n",
    "\n",
    "#include <stdio.h>\n",
    "#include <stdlib.h>\n",
    "\n",
    "typedef struct Data{\n",
    "    int numInteger;\n",
    "    int* numIntPointer;\n",
    "} myData;\n",
    "\n",
    "void printData(struct Data data){\n",
    "\n",
    "   printf( \"Data numInteger: %i\\n\", data.numInteger);\n",
    "   printf( \"Data numIntPointer: %p and the value is %i\\n\", data.numIntPointer, *data.numIntPointer);\n",
    "\n",
    "}\n",
    "\n",
    "void printDataPointer(struct Data *data){\n",
    "\n",
    "   printf( \"Data numInteger: %i\\n\", data -> numInteger);\n",
    "   printf( \"Data numIntPointer: %p and the value is %i\\n\", data -> numIntPointer, *data -> numIntPointer);\n",
    "\n",
    "}\n",
    "\n",
    "int main(){\n",
    "    \n",
    "    myData *dataPointer;\n",
    "    dataPointer = malloc(sizeof(myData));\n",
    "    \n",
    "    dataPointer->numInteger = 2;\n",
    "    dataPointer -> numIntPointer = malloc(sizeof(int));\n",
    "    *dataPointer -> numIntPointer = 3;\n",
    "    \n",
    "    puts(\"-----dataPointer-----\\n\");\n",
    "    printData(*dataPointer);\n",
    "    puts(\"\\n\");\n",
    "    puts(\"-----   dataPointer printed using '->'   -----\\n\");\n",
    "    printDataPointer(dataPointer);\n",
    "    \n",
    "    \n",
    "    free(dataPointer);\n",
    "    return 0;\n",
    "    \n",
    "}"
   ]
  },
  {
   "cell_type": "code",
   "execution_count": null,
   "metadata": {},
   "outputs": [],
   "source": []
  }
 ],
 "metadata": {
  "kernelspec": {
   "display_name": "C",
   "language": "c",
   "name": "c"
  },
  "language_info": {
   "file_extension": ".c",
   "mimetype": "text/plain",
   "name": "c"
  }
 },
 "nbformat": 4,
 "nbformat_minor": 2
}
