{
 "cells": [
  {
   "cell_type": "markdown",
   "metadata": {},
   "source": [
    "# Execution Pipeline"
   ]
  },
  {
   "cell_type": "markdown",
   "metadata": {},
   "source": [
    "## Process to compilate all c files"
   ]
  },
  {
   "cell_type": "code",
   "execution_count": 15,
   "metadata": {
    "scrolled": true
   },
   "outputs": [
    {
     "name": "stdout",
     "output_type": "stream",
     "text": [
      "........................................... Compilated C Files\n"
     ]
    }
   ],
   "source": [
    "%%bash\n",
    "\n",
    "gcc scripts/mallocError.c -o executable-files/mallocError\n",
    "gcc scripts/sizeofPointers.c -o executable-files/sizeofPointers\n",
    "gcc scripts/sizeofTypes.c -o executable-files/sizeofTypes\n",
    "gcc scripts/struct.c -o executable-files/struct\n",
    "gcc scripts/structPointers.c -o executable-files/structPointers\n",
    "echo \"........................................... Compilated C Files\"\n"
   ]
  },
  {
   "cell_type": "code",
   "execution_count": 14,
   "metadata": {},
   "outputs": [
    {
     "name": "stdout",
     "output_type": "stream",
     "text": [
      "mallocError\n",
      "sizeofPointers\n",
      "sizeofTypes\n",
      "struct\n",
      "structPointers\n",
      "........................................... Checking Binary Files\n"
     ]
    }
   ],
   "source": [
    "%%bash\n",
    "\n",
    "cd executable-files/\n",
    "ls\n",
    "echo \"........................................... Checking Binary Files\""
   ]
  },
  {
   "cell_type": "code",
   "execution_count": 16,
   "metadata": {
    "scrolled": true
   },
   "outputs": [
    {
     "name": "stdout",
     "output_type": "stream",
     "text": [
      "'a' char value: H, 'a' memory address 0x5562a5ed1260\n",
      "char* size: 8 bytes\n",
      "int* size: 8 bytes\n",
      "float* size: 8 bytes\n",
      "short* size: 8 bytes\n",
      "double* size: 8 bytes\n",
      "long* size: 8 bytes\n",
      "long long* size: 8 bytes\n",
      "char size: 1 byte\n",
      "int size: 4 bytes\n",
      "float size: 4 bytes\n",
      "short size: 2 bytes\n",
      "double size: 8 bytes\n",
      "long size: 8 bytes\n",
      "long long size: 8 bytes\n",
      "-----data1-----\n",
      "\n",
      "Data numInteger: 34\n",
      "Data numDouble: 2.450000\n",
      "\n",
      "\n",
      "-----data2-----\n",
      "\n",
      "Data numInteger: 10\n",
      "Data numDouble: 3.140000\n",
      "\n",
      "\n",
      "-----dataPointer-----\n",
      "\n",
      "Data numInteger: 34\n",
      "Data numDouble: 2.450000\n",
      "\n",
      "\n",
      "-----   dataPointer printed using '->'   -----\n",
      "\n",
      "Data numInteger: 10\n",
      "Data numDouble: 3.140000\n",
      "-----dataPointer-----\n",
      "\n",
      "Data numInteger: 2\n",
      "Data numIntPointer: 0x55f3e30f5280 and the value is 3\n",
      "\n",
      "\n",
      "-----   dataPointer printed using '->'   -----\n",
      "\n",
      "Data numInteger: 2\n",
      "Data numIntPointer: 0x55f3e30f5280 and the value is 3\n",
      "........................................... Executed Binary Files\n"
     ]
    }
   ],
   "source": [
    "%%bash\n",
    "\n",
    "cd executable-files/\n",
    "./mallocError\n",
    "./sizeofPointers\n",
    "./sizeofTypes\n",
    "./struct\n",
    "./structPointers\n",
    "echo \"........................................... Executed Binary Files\""
   ]
  },
  {
   "cell_type": "code",
   "execution_count": null,
   "metadata": {},
   "outputs": [],
   "source": []
  }
 ],
 "metadata": {
  "kernelspec": {
   "display_name": "Python 3",
   "language": "python",
   "name": "python3"
  },
  "language_info": {
   "codemirror_mode": {
    "name": "ipython",
    "version": 3
   },
   "file_extension": ".py",
   "mimetype": "text/x-python",
   "name": "python",
   "nbconvert_exporter": "python",
   "pygments_lexer": "ipython3",
   "version": "3.7.1"
  }
 },
 "nbformat": 4,
 "nbformat_minor": 2
}
