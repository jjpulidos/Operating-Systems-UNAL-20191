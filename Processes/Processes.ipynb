{
 "cells": [
  {
   "cell_type": "markdown",
   "metadata": {},
   "source": [
    "# Processes"
   ]
  },
  {
   "cell_type": "markdown",
   "metadata": {},
   "source": [
    "### process.c Explanation"
   ]
  },
  {
   "cell_type": "code",
   "execution_count": 1,
   "metadata": {},
   "outputs": [
    {
     "name": "stdout",
     "output_type": "stream",
     "text": [
      "I'm a father process\n",
      "I'm a child process\n"
     ]
    }
   ],
   "source": [
    "#include <unistd.h>\n",
    "#include <sys/types.h>\n",
    "#include <stdio.h>\n",
    "#include <stdlib.h>\n",
    "\n",
    "int main(){\n",
    "\n",
    "    pid_t p;\n",
    "    p = fork(); // This command create a process with the next code\n",
    "                // if the command return -1, a error ocurred, else process id is returned\n",
    "    if (p<0){\n",
    "        perror(\"Fork Error\\n\");\n",
    "        exit(-1);\n",
    "    }\n",
    "    \n",
    "    if(!p){\n",
    "        printf(\"I'm a child process\\n\");\n",
    "    }else{\n",
    "        printf(\"I'm a father process\\n\");\n",
    "    }\n",
    "\n",
    "\n",
    "return 0;\n",
    "}\n",
    "\n"
   ]
  },
  {
   "cell_type": "markdown",
   "metadata": {},
   "source": [
    "### BigCharge.c Explanation"
   ]
  },
  {
   "cell_type": "code",
   "execution_count": 3,
   "metadata": {},
   "outputs": [
    {
     "name": "stderr",
     "output_type": "stream",
     "text": [
      "/tmp/tmpb90oyo4f.out: symbol lookup error: /tmp/tmpjzr83j5_.out: undefined symbol: sin\n",
      "/tmp/tmpb90oyo4f.out: symbol lookup error: /tmp/tmpjzr83j5_.out: undefined symbol: sin\n",
      "[C kernel] Executable exited with code 127"
     ]
    }
   ],
   "source": [
    "#include <unistd.h>\n",
    "#include <sys/types.h>\n",
    "#include <stdio.h>\n",
    "#include <stdlib.h>\n",
    "#include <math.h>\n",
    "\n",
    "\n",
    "int foo(){ // function execution will take a long time.\n",
    "    int x;\n",
    "    for(int i = 0; i< 2e09;i++){ // loop has so many iterations\n",
    "        x = x+ sin(i);  // This floating point operation is computational expensive\n",
    "    }\n",
    "    return x;\n",
    "}\n",
    "\n",
    "\n",
    "int main(){\n",
    "\n",
    "        pid_t p;\n",
    "        p = fork();\n",
    "    if (p<0){\n",
    "        perror(\"Fork Error\\n\");\n",
    "        exit(-1);\n",
    "    }\n",
    "    if(!p){\n",
    "        foo(); // executing the function in the child process\n",
    "    }else{\n",
    "        foo(); // executing the function in the father process\n",
    "    }\n",
    "\n",
    "\n",
    "    return 0;\n",
    "}\n",
    "\n"
   ]
  },
  {
   "cell_type": "markdown",
   "metadata": {},
   "source": [
    "**Executing the C script using Minimalism C kernel in Jupyter can throw several exceptions caused by libraries...**"
   ]
  },
  {
   "cell_type": "markdown",
   "metadata": {},
   "source": [
    "### pi.c Explanation"
   ]
  },
  {
   "cell_type": "code",
   "execution_count": 4,
   "metadata": {},
   "outputs": [
    {
     "name": "stdout",
     "output_type": "stream",
     "text": [
      "Pi Constant = 3.141592653569798113816e+00\n"
     ]
    }
   ],
   "source": [
    "#include <unistd.h>\n",
    "#include <sys/types.h>\n",
    "#include <sys/wait.h>\n",
    "#include <stdio.h>\n",
    "#include <stdlib.h>\n",
    "#include <math.h>\n",
    "#include <float.h>\n",
    "\n",
    "long double piCalc(_Bool odd){\n",
    "    \n",
    "    long double piDecimals = 0;\n",
    "    \n",
    "    if(odd){\n",
    "        \n",
    "        for(long double i = 1.0; i< 1e11; i+=4){\n",
    "             piDecimals += (long double) (4.0/i); // positive part of the Gregory-Leibniz Series for pi calculate\n",
    "        }\n",
    "\n",
    "        \n",
    "    }else{\n",
    "        \n",
    "        for(long double i = 3.0; i< 1e11; i+=4){\n",
    "             piDecimals -= (long double)(4.0/i); // negative part of the Gregory-Leibniz Series for pi calculate\n",
    "        }\n",
    "    }\n",
    "    \n",
    "    return piDecimals;\n",
    "}\n",
    "\n",
    "\n",
    "int main(){\n",
    "\n",
    "        pid_t p;\n",
    "        p = fork();\n",
    "    \n",
    "    if (p<0){\n",
    "        perror(\"Fork Error\\n\");\n",
    "        exit(-1);\n",
    "    }\n",
    "    \n",
    "    long double piChild= 0;\n",
    "    long double piFather= 0;\n",
    "    long double piTotal = 0;\n",
    "    \n",
    "    if(!p){\n",
    "        piChild = piCalc(1);\n",
    "         FILE *f;\n",
    "    \n",
    "         f = fopen(\"Data/pi.dat\", \"w+\");\n",
    "    \n",
    "        if (f == NULL){\n",
    "\n",
    "            perror(\"opening file error\");\n",
    "            exit(-1);\n",
    "\n",
    "        }\n",
    "    \n",
    "        int r = fwrite(&piChild, sizeof(piChild), 1, f);\n",
    "\n",
    "        if (r == 0){\n",
    "\n",
    "            perror(\"writing file error\");\n",
    "            exit(-1);\n",
    "        }\n",
    "\n",
    "\n",
    "        fclose(f);\n",
    "    }else{\n",
    "        \n",
    "        piFather = piCalc(0);\n",
    "        int status;\n",
    "        wait(&status);\n",
    "        FILE *fd = fopen(\"Data/pi.dat\", \"a+\");\n",
    "        long double pi_file;\n",
    "        fread(&pi_file,sizeof(pi_file),1,fd);\n",
    "\n",
    "        piTotal += piFather+ pi_file;\n",
    "        \n",
    "        int Digs = DECIMAL_DIG;\n",
    "        printf(\"Pi Constant = %.*Le\\n\", Digs, piTotal);\n",
    "        \n",
    "    }\n",
    "\n",
    "    return 0;\n",
    "}\n",
    "\n"
   ]
  },
  {
   "cell_type": "code",
   "execution_count": null,
   "metadata": {},
   "outputs": [],
   "source": []
  }
 ],
 "metadata": {
  "kernelspec": {
   "display_name": "C",
   "language": "c",
   "name": "c"
  },
  "language_info": {
   "file_extension": ".c",
   "mimetype": "text/plain",
   "name": "c"
  }
 },
 "nbformat": 4,
 "nbformat_minor": 2
}
