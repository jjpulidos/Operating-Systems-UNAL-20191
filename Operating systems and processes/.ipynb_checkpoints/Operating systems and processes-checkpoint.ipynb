{
 "cells": [
  {
   "cell_type": "markdown",
   "metadata": {},
   "source": [
    "# Operating systems and processes"
   ]
  },
  {
   "cell_type": "markdown",
   "metadata": {},
   "source": [
    "## Operating System\n",
    "\n",
    "An operating system is a set of programs that ease the use of a machine hardware. Its main funcionalities, or in other words, what an operating system has to offer is: \n",
    "\n",
    "* Management of hardware resources\n",
    "* Graphical User Interface (GUI)\n",
    "* Network comunication\n",
    "* Storage abstration\n",
    "* Program execution\n",
    "* Security\n",
    "\n",
    "Acording to its architecture, an operating system can be clasified into: monolithic and no-monolithic.\n"
   ]
  },
  {
   "cell_type": "markdown",
   "metadata": {},
   "source": [
    "----------------------------------------------------\n",
    "\n",
    "**Monolithic OS**\n",
    "\n",
    "Those in which the entire OS is working in the kernel space, meaning that all its funcionalities are encapsulate into only one space.\n",
    "\n",
    "**No-monolithic OS (Microkernel)**\n",
    "\n",
    "Those in which the OS funcionalities are distributed between the kernel and the user space, leading into a ligther kernel.\n",
    "\n",
    "----------------------------------------------------\n"
   ]
  },
  {
   "cell_type": "markdown",
   "metadata": {},
   "source": [
    "Here it can be seen an image that ilustrates the difference between a monolithic OS and a no-monolithic OS:\n",
    "\n",
    "![](https://i.imgur.com/WtW2gRf.png)\n",
    "\n",
    "> The user communicates with the kernel using System calls, these are standardized by the POSIX (Portable Operating System Interface) to maintain compatibility between OS's\n"
   ]
  },
  {
   "cell_type": "markdown",
   "metadata": {},
   "source": [
    "> \n",
    "Getting more into the functionality of programs execution, we encounter that when a program is processed by a compiler it gave as a result an executable file located in the hardware disk with the following structure:\n",
    "\n",
    "<div style=\"text-align:center\"> <img src=\"https://i.imgur.com/AxggmHw.png\"> </div>\n",
    "\n"
   ]
  },
  {
   "cell_type": "markdown",
   "metadata": {},
   "source": [
    "When the executable file is running, the OS reserves a space in the RAM memory to load the program. Once into the memory the program in known as a **process**.\n",
    "\n",
    "Commonly a process has three segments: the data segment, the code segment and the stack segment.\n",
    "\n",
    "**Data segment:** storage initialized data, global variables and function parameters.\n",
    "\n",
    "**Code segment:** storage the instructions to follow.\n",
    "\n",
    "**Stack segment:** is used to storage the value of the Instruction Pointer (IP) to manage recursion and interruptions.\n",
    "\n"
   ]
  },
  {
   "cell_type": "markdown",
   "metadata": {},
   "source": [
    "> **General purpose registers**\n",
    ">  * AX, BX, CX, DX\n",
    ">  * Instruction Pointer (IP)\n",
    ">  * Data Segment (DS), Code Segment (CS), Stack Segment (SS)\n",
    "\n",
    "<div style=\"text-align:center\"> <img src=\"https://i.imgur.com/t1DYR4R.png\"> </div>\n",
    "\n"
   ]
  },
  {
   "cell_type": "markdown",
   "metadata": {},
   "source": [
    "The Process Control Block (PCB) it contains information about the process, like:\n",
    "\n",
    "\n",
    "+ PID \n",
    "+ State\n",
    "+ Metrics\n",
    "+ Priority\n",
    "+ CPU Registers\n",
    "+ List of open files"
   ]
  }
 ],
 "metadata": {
  "kernelspec": {
   "display_name": "C",
   "language": "c",
   "name": "c"
  },
  "language_info": {
   "file_extension": ".c",
   "mimetype": "text/plain",
   "name": "c"
  }
 },
 "nbformat": 4,
 "nbformat_minor": 2
}
